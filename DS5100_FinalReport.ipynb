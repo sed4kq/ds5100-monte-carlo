{
 "cells": [
  {
   "cell_type": "markdown",
   "id": "45762487-d33f-486d-8e38-2cdea04e3528",
   "metadata": {},
   "source": [
    "# Final Project Report\n",
    "\n",
    "* Class: DS 5100\n",
    "* Student Name: Samuel Delaney\n",
    "* Student Net ID: sed4kq\n",
    "* This URL: a URL to the notebook source of this document - NOT SURE WHAT THIS MEANS"
   ]
  },
  {
   "cell_type": "markdown",
   "id": "acf756c1-ecaa-41dc-b6ca-d566eb94560b",
   "metadata": {},
   "source": [
    "# Instructions\n",
    "\n",
    "Follow the instructions in the Final Project isntructions notebook and put evidence of your work in this notebook.\n",
    "\n",
    "Total points for each subsection under **Deliverables** and **Scenarios** are given in parentheses.\n",
    "\n",
    "Breakdowns of points within subsections are specified within subsection instructions as bulleted lists.\n",
    "\n",
    "This project is worth **50 points**."
   ]
  },
  {
   "cell_type": "markdown",
   "id": "89dc7a32-f682-4402-8c1e-b6ccdb3e0e39",
   "metadata": {},
   "source": [
    "# Deliverables"
   ]
  },
  {
   "cell_type": "markdown",
   "id": "d32cb273-9a40-4909-a7ce-51f6e4958d3c",
   "metadata": {},
   "source": [
    "## The Monte Carlo Module (10)\n",
    "\n",
    "- URL included, appropriately named (1).\n",
    "- Includes all three specified classes (3).\n",
    "- Includes at least all 12 specified methods (6; .5 each)."
   ]
  },
  {
   "cell_type": "markdown",
   "id": "f5f3b070-de9e-4de9-bfae-8974d184aa28",
   "metadata": {},
   "source": [
    "Put the URL to your GitHub repo here.\n",
    "\n",
    "Repo URL: https://github.com/sed4kq/ds5100-monte-carlo"
   ]
  },
  {
   "cell_type": "markdown",
   "id": "162370fb-3729-4c85-b040-8c25b2c966d2",
   "metadata": {},
   "source": [
    "Paste a copy of your module here.\n",
    "\n",
    "NOTE: Paste as text, not as code. Use triple backticks to wrap your code blocks."
   ]
  },
  {
   "cell_type": "markdown",
   "id": "1677d1a6-4b7e-4d5c-aa08-beb9d1113401",
   "metadata": {},
   "source": [
    "# A code block with your classes.\n",
    "```\n",
    "import numpy as np\n",
    "import pandas as pd\n",
    "\n",
    "\n",
    "class Die:\n",
    "    \n",
    "    \"\"\"\n",
    "    This class represents a die with faces and custom weights (defaults to 1) that can be rolled one or more times and produces the current state of the die.\n",
    "    \"\"\"\n",
    "\n",
    "    def __init__(self, faces):\n",
    "        \"\"\"\n",
    "        This initializes a Die object that contains user provided faces and default weights of one.\n",
    "        \n",
    "        Arguments:\n",
    "            faces: a numpy array of unique values representing the faces of the die   (strings or integers)\n",
    "\n",
    "        Errors to Raise:\n",
    "            TypeError: if faces is not a numpy array\n",
    "            ValueError: if faces contains any duplicate values\n",
    "        \"\"\"\n",
    "        \n",
    "        if type(faces) is not np.ndarray:\n",
    "            raise TypeError(\"`faces` must be stored as a numpy array.\")\n",
    "        if len(faces) != len(np.unique(faces)):\n",
    "            raise ValueError(\"`faces` must be different.\")\n",
    "\n",
    "        self.die = pd.DataFrame({'face': faces, 'weight': np.ones(len(faces))})\n",
    "        self.die.set_index('face', inplace=True)\n",
    "\n",
    "        \n",
    "               \n",
    "    def weight(self, face_value, new_weight):\n",
    "        \"\"\"\n",
    "        This can change the weight of a specific face.\n",
    "\n",
    "        Arguments:\n",
    "            face_value: the face whose weight is being changed   (string or integer)\n",
    "            new_weight: the new weight value for the given face  (integer or float)\n",
    "\n",
    "        Errors to Raise:\n",
    "            IndexError: if the face_value is not found in the dataframe\n",
    "            TypeError: if the new_weight cannot be in numeric form\n",
    "        \"\"\"\n",
    "        \n",
    "        if face_value not in self.die.index:\n",
    "            raise IndexError(\"`face_value` is not found in self.die \")\n",
    "        \n",
    "        try:\n",
    "            new_weight = float(new_weight)\n",
    "        except ValueError:\n",
    "            raise TypeError(\"`new_weight` must be a numeric value\")\n",
    "        \n",
    "        self.die.loc[face_value, 'weight'] = new_weight\n",
    "    \n",
    "    \n",
    "    \n",
    "    def roll(self, num_rolls = 1):\n",
    "        \"\"\"\n",
    "        This rolls the die one or more times.\n",
    "        \n",
    "        Arguments:\n",
    "            num_rolls: the number of times to roll the die - the default is 1  (integer)\n",
    "        \n",
    "        Returns:\n",
    "            A list of all outcomes from the roll\n",
    "        \"\"\"\n",
    "        \n",
    "        return list(self.die.sample(n = num_rolls, weights = 'weight', replace = True).index)\n",
    "    \n",
    "    \n",
    "    \n",
    "    def current_state(self):\n",
    "        \"\"\"\n",
    "        This will return the current state of the die as a copy of the DataFrame of all faces and weights.\n",
    "        \"\"\"\n",
    "        \n",
    "        return self.die.copy()\n",
    "\n",
    "\n",
    "\n",
    "\n",
    "\n",
    "\n",
    "\n",
    "from .die import Die\n",
    "import pandas as pd\n",
    "import numpy as np\n",
    "\n",
    "\n",
    "class Game:\n",
    "    \n",
    "    \"\"\"\n",
    "    This class will simulate the rolling of one or more dice within a game. It can roll a specified number of times and outputs the results in a specified format.\n",
    "    \"\"\"\n",
    "    \n",
    "    def __init__(self, dice):\n",
    "        \"\"\"\n",
    "        This initializes the game by taking a list of Die objects with the same number of faces, but potentially different weights.\n",
    "        \n",
    "        Arguments:\n",
    "            dice: a list of similar Die objects\n",
    "        \"\"\"\n",
    "        \n",
    "        self.dice = dice\n",
    "        self.results = None\n",
    "    \n",
    "    \n",
    "    \n",
    "    def play(self, num_rolls):\n",
    "        \"\"\"\n",
    "        This rolls all the dice the given number of times.\n",
    "        \n",
    "        Arguments:\n",
    "            num_rolls: the number of rolls for the dice   (integer)\n",
    "        \"\"\"\n",
    "        \n",
    "        rolls = {i: die.roll(num_rolls) for i, die in enumerate(self.dice)}\n",
    "        self.results = pd.DataFrame(rolls)\n",
    "    \n",
    "    \n",
    "    \n",
    "    def show(self, form = 'wide'):\n",
    "        \"\"\"\n",
    "        This returns the results of the most recent play of the game in the desired format.\n",
    "        \n",
    "        Arguments:\n",
    "            shape: the format of the data (wide or narrow), the default for this is wide   (string)\n",
    "            \n",
    "        Errors to Raise:\n",
    "            ValueError: if the reuqested `form` is not wide or narrow\n",
    "        \"\"\"\n",
    "        \n",
    "        if form.lower() == 'wide':\n",
    "            return self.results.copy()\n",
    "        elif form.lower() == 'narrow':\n",
    "            return self.results.stack().reset_index(name='outcome')\n",
    "        else:\n",
    "            raise ValueError(\"Invalid format. Must be `wide` or `narrow`\")\n",
    "\n",
    "\n",
    "\n",
    "\n",
    "\n",
    "\n",
    "\n",
    "from .game import Game\n",
    "import pandas as pd\n",
    "import numpy as np\n",
    "\n",
    "\n",
    "class Analyzer:\n",
    "    \n",
    "    \"\"\"\n",
    "    This class will take the results of a single game and analyze the some statistical properties of the results (jackpots, the number of times each face value was rolled, and distinct face combinations and permutations).\n",
    "    \"\"\"\n",
    "    \n",
    "    def __init__(self, game):\n",
    "        \"\"\"\n",
    "        This initializes the analyzer by taking a game object.\n",
    "        \n",
    "        Arguments:\n",
    "            game: a Game object\n",
    "        \n",
    "        Errors to Raise:\n",
    "            ValueError: if the input is not a Game object\n",
    "        \"\"\"\n",
    "        \n",
    "        if type(game) is not Game:\n",
    "            raise ValueError(\"`game` must be a Game object\")\n",
    "        \n",
    "        self.game_results = game.show('wide').copy()\n",
    "        \n",
    "    \n",
    "    \n",
    "    def jackpot(self):\n",
    "        \"\"\"\n",
    "        This computes how many times the game ended in a jackpot which is where all dice in a roll show the same face.\n",
    "        \n",
    "        Returns:\n",
    "            The number of jackpots as an integer\n",
    "        \"\"\"\n",
    "        \n",
    "        jackpots = (self.game_results.nunique(axis=1) == 1).sum()\n",
    "        return int(jackpots)\n",
    "    \n",
    "    \n",
    "    \n",
    "    def roll_face_counts(self):\n",
    "        \"\"\"\n",
    "        This computes the number of times a given face value is rolled for each event.\n",
    "        \n",
    "        Returns:\n",
    "            A dataframe with the roll numbers in the index, face counts in the columns, and the count values in the cells\n",
    "        \"\"\"\n",
    "        \n",
    "        face_counts = self.game_results.apply(pd.Series.value_counts, axis=1).fillna(0).astype(int)\n",
    "        return face_counts\n",
    "    \n",
    "    \n",
    "    \n",
    "    def combo_count(self):\n",
    "        \"\"\"\n",
    "        This computes the number of distinct face combinations over all rolls. Note: Combinations are order-independent.\n",
    "        \n",
    "        Returns:\n",
    "            A dataframe with the combinations as a MultiIndex and their counts in a column\n",
    "        \"\"\"\n",
    "        \n",
    "        combos = self.game_results.apply(lambda x: tuple(sorted(x)), axis=1)\n",
    "        combo_counts = combos.value_counts()\n",
    "        combo_multi = pd.MultiIndex.from_tuples(combo_counts.index)\n",
    "        return pd.DataFrame({'count': combo_counts.values}, index=combo_multi)\n",
    "    \n",
    "    \n",
    "    \n",
    "    \n",
    "    def permutation_count(self):\n",
    "        \"\"\"\n",
    "        This computes the number of distinct face permutations over all rolls. Note: Permutations are order-dependent.\n",
    "        \n",
    "        Returns:\n",
    "            A dataframe with the permutations as a MultiIndex and their counts in a column\n",
    "        \"\"\"\n",
    "        \n",
    "        perms = self.game_results.apply(lambda x: tuple(x), axis=1)\n",
    "        perm_counts = perms.value_counts()\n",
    "        perm_multi = pd.MultiIndex.from_tuples(perm_counts.index)\n",
    "        return pd.DataFrame({'count': perm_counts.values}, index=perm_multi)\n",
    "```"
   ]
  },
  {
   "cell_type": "markdown",
   "id": "6377727a-8f0a-491e-9f1c-d9dc225edd35",
   "metadata": {},
   "source": [
    "## Unitest Module (2)\n",
    "\n",
    "Paste a copy of your test module below.\n",
    "\n",
    "NOTE: Paste as text, not as code. Use triple backticks to wrap your code blocks.\n",
    "\n",
    "- All methods have at least one test method (1).\n",
    "- Each method employs one of Unittest's Assert methods (1)."
   ]
  },
  {
   "cell_type": "markdown",
   "id": "3dea20a8-c07d-4681-8b63-93dc82004847",
   "metadata": {},
   "source": [
    "# A code block with your test code.\n",
    "```\n",
    "import unittest\n",
    "import pandas as pd\n",
    "import numpy as np\n",
    "from monte_carlo_package.die import Die\n",
    "from monte_carlo_package.game import Game\n",
    "from monte_carlo_package.analyzer import Analyzer\n",
    "\n",
    "\n",
    "class MonteCarloTest(unittest.TestCase):\n",
    "    \"\"\"\n",
    "    This class will unit test all of the methods for the Monte Carlo game simulator from the die, game, and analyzer classes.\n",
    "    \"\"\"\n",
    "    \n",
    "    def test_init_die(self):\n",
    "        \"\"\"\n",
    "        Testing the initializer in the die class to affirm faces is of the correct length as a numpy array.\n",
    "        \"\"\"\n",
    "        faces = np.array([1, 2, 3, 4, 5, 6])\n",
    "        die = Die(faces)\n",
    "        self.assertEqual(len(die.current_state()), 6)\n",
    "\n",
    "        \n",
    "    def test_weight(self):\n",
    "        \"\"\"\n",
    "        Testing the weight method in the die class to check if the weight of a specific die is successfully being changed.\n",
    "        \"\"\"\n",
    "        faces = np.array([1, 2, 3, 4, 5, 6])\n",
    "        die = Die(faces)\n",
    "        die.weight(1, 2)\n",
    "        self.assertEqual(die.current_state().loc[1, 'weight'], 2)\n",
    "\n",
    "        \n",
    "    def test_roll(self):\n",
    "        \"\"\"\n",
    "        Testing the roll method in the die class to confirm it is rolling the correct number of times.\n",
    "        \"\"\"\n",
    "        faces = np.array([1, 2, 3, 4, 5, 6])\n",
    "        die = Die(faces)\n",
    "        rolls = die.roll(5)\n",
    "        self.assertEqual(len(rolls), 5)\n",
    "    \n",
    "    \n",
    "    def test_current_state(self):\n",
    "        \"\"\"\n",
    "        Testing the current state method in the die class to confirm the number of faces on the die.\n",
    "        \"\"\"\n",
    "        die = Die(np.array([1, 2, 3, 4, 5, 6]))\n",
    "        current = die.current_state()\n",
    "        self.assertEqual(current.shape[0], 6)\n",
    "\n",
    "\n",
    "        \n",
    "        \n",
    "        \n",
    "\n",
    "    def test_init_game(self):\n",
    "        \"\"\"\n",
    "        Testing the initializer method in the game class to confirm it is creating the right number of dice.\n",
    "        \"\"\"\n",
    "        die_1 = Die(np.array([1, 2, 3, 4, 5, 6]))\n",
    "        die_2 = Die(np.array([1, 2, 3, 4, 5, 6])) \n",
    "        game = Game([die_1, die_2]) \n",
    "        self.assertEqual(len(game.dice), 2)\n",
    "        \n",
    "        \n",
    "    def test_play(self):\n",
    "        \"\"\"\n",
    "        Testing the play method in the game class to confirm the play method is executing five times for one dice.\n",
    "        \"\"\"\n",
    "        faces = np.array([1, 2, 3, 4, 5, 6])\n",
    "        die = Die(faces)\n",
    "        game = Game([die])\n",
    "        game.play(5)\n",
    "        outcome = game.show()\n",
    "        self.assertEqual(outcome.shape, (5, 1))\n",
    "\n",
    "        \n",
    "    def test_show(self):\n",
    "        \"\"\"\n",
    "        Testing the show method in the game class to check if the `wide` and `narrow` data structures are being stored correctly.\n",
    "        The `wide` format being a row for each roll number and a column for each die number.\n",
    "        The `narrow` format being a MultiIndex for the roll number and the die number.\n",
    "        \"\"\"\n",
    "        faces = np.array([1, 2, 3, 4, 5, 6])\n",
    "        die = Die(faces)\n",
    "        game = Game([die])\n",
    "        game.play(5)\n",
    "        wide = game.show('wide')\n",
    "        narrow = game.show('narrow')\n",
    "        self.assertEqual(wide.shape, (5, 1))\n",
    "        self.assertEqual(narrow.shape, (5, 3))\n",
    "\n",
    "    \n",
    "    \n",
    "            \n",
    "    \n",
    "    def test_init_analyzer(self):\n",
    "        \"\"\"\n",
    "        Testing the initializer method in the analyzer class to confirm it is created correctly.\n",
    "        \"\"\"\n",
    "        die = Die(np.array([1, 2, 3, 4, 5, 6]))\n",
    "        game = Game([die])\n",
    "        game.play(5)\n",
    "        analyzer = Analyzer(game)\n",
    "        self.assertIsInstance(analyzer, Analyzer)\n",
    "\n",
    "        \n",
    "    def test_jackpot(self):\n",
    "        \"\"\"\n",
    "        Testing the jackpot method in the analyzer class to check if the jackpots value is an integer.\n",
    "        \"\"\"\n",
    "        faces = np.array([1, 2, 3, 4, 5, 6])\n",
    "        die = Die(faces)\n",
    "        game = Game([die])\n",
    "        game.play(5)\n",
    "        analyzer = Analyzer(game)\n",
    "        self.assertIsInstance(analyzer.jackpot(), int)\n",
    "\n",
    "        \n",
    "    def test_roll_face_counts(self):\n",
    "        \"\"\"\n",
    "        Testing the roll face count method in the analyzer class to check that this method returns a count for each roll.\n",
    "        \"\"\"\n",
    "        faces = np.array([1, 2, 3, 4, 5, 6])\n",
    "        die = Die(faces)\n",
    "        game = Game([die])\n",
    "        game.play(5)\n",
    "        analyzer = Analyzer(game)\n",
    "        face_counts = analyzer.roll_face_counts()\n",
    "        self.assertEqual(face_counts.shape[0], 5)\n",
    "\n",
    "        \n",
    "    def test_combo_count(self):\n",
    "        \"\"\"\n",
    "        Testing the combo count method in the analyzer class to check that this method is computing at least one different combination.\n",
    "        \"\"\"\n",
    "        faces = np.array([1, 2, 3, 4, 5, 6])\n",
    "        die = Die(faces)\n",
    "        game = Game([die])\n",
    "        game.play(5)\n",
    "        analyzer = Analyzer(game)\n",
    "        combos = analyzer.combo_count()\n",
    "        self.assertGreaterEqual(len(combos), 1)\n",
    "\n",
    "        \n",
    "    def test_permutation_count(self):\n",
    "        \"\"\"\n",
    "        Testing the permutation count method in the analyzer class to check that this method is computing at least one different permutation.\n",
    "        \"\"\"\n",
    "        faces = np.array([1, 2, 3, 4, 5, 6])\n",
    "        die = Die(faces)\n",
    "        game = Game([die])\n",
    "        game.play(5)\n",
    "        analyzer = Analyzer(game)\n",
    "        perms = analyzer.permutation_count()\n",
    "        self.assertGreaterEqual(len(perms), 1)\n",
    "\n",
    "\n",
    "        \n",
    "        \n",
    "if __name__ == '__main__':\n",
    "    unittest.main()\n",
    "```"
   ]
  },
  {
   "cell_type": "markdown",
   "id": "3e058d03-29bc-408f-b36d-0605b4f4b8c0",
   "metadata": {
    "tags": []
   },
   "source": [
    "## Unittest Results (3)\n",
    "\n",
    "Put a copy of the results of running your tests from the command line here.\n",
    "\n",
    "Again, paste as text using triple backticks.\n",
    "\n",
    "- All 12 specified methods return OK (3; .25 each)."
   ]
  },
  {
   "cell_type": "markdown",
   "id": "2cec86bc-64b2-4ba0-a0ee-2116a4bc774e",
   "metadata": {
    "tags": []
   },
   "source": [
    "# A text block with the output of a successful test.\n",
    "```\n",
    "............\n",
    "----------------------------------------------------------------------\n",
    "Ran 12 tests in 0.039s\n",
    "OK\n",
    "```"
   ]
  },
  {
   "cell_type": "markdown",
   "id": "d9ffe8c5-eb2f-4ad1-af76-a46550e4c7ac",
   "metadata": {},
   "source": [
    "## Import (1)\n",
    "\n",
    "Import your module here. This import should refer to the code in your package directory.\n",
    "\n",
    "- Module successuflly imported (1)."
   ]
  },
  {
   "cell_type": "code",
   "execution_count": 37,
   "id": "a05dffb3-e6d6-4f78-9df4-5abd0cf74ca9",
   "metadata": {
    "tags": []
   },
   "outputs": [],
   "source": [
    "import monte_carlo_package"
   ]
  },
  {
   "cell_type": "markdown",
   "id": "f30c4842-65b1-4556-98b6-3fe1a07e1371",
   "metadata": {},
   "source": [
    "## Help Docs (4)\n",
    "\n",
    "Show your docstring documentation by applying `help()` to your imported module.\n",
    "\n",
    "- All methods have a docstring (3; .25 each).\n",
    "- All classes have a docstring (1; .33 each)."
   ]
  },
  {
   "cell_type": "code",
   "execution_count": 38,
   "id": "bf4fbf1f-9885-471c-a0a6-e9ca90e160de",
   "metadata": {
    "tags": []
   },
   "outputs": [
    {
     "name": "stdout",
     "output_type": "stream",
     "text": [
      "Help on class Die in module monte_carlo_package.die:\n",
      "\n",
      "class Die(builtins.object)\n",
      " |  Die(faces)\n",
      " |  \n",
      " |  This class represents a die with faces and custom weights (defaults to 1) that can be rolled one or more times and produces the current state of the die.\n",
      " |  \n",
      " |  Methods defined here:\n",
      " |  \n",
      " |  __init__(self, faces)\n",
      " |      This initializes a Die object that contains user provided faces and default weights of one.\n",
      " |      \n",
      " |      Arguments:\n",
      " |          faces: a numpy array of unique values representing the faces of the die   (strings or integers)\n",
      " |      \n",
      " |      Errors to Raise:\n",
      " |          TypeError: if faces is not a numpy array\n",
      " |          ValueError: if faces contains any duplicate values\n",
      " |  \n",
      " |  current_state(self)\n",
      " |      This will return the current state of the die as a copy of the DataFrame of all faces and weights.\n",
      " |  \n",
      " |  roll(self, num_rolls=1)\n",
      " |      This rolls the die one or more times.\n",
      " |      \n",
      " |      Arguments:\n",
      " |          num_rolls: the number of times to roll the die - the default is 1  (integer)\n",
      " |      \n",
      " |      Returns:\n",
      " |          A list of all outcomes from the roll\n",
      " |  \n",
      " |  weight(self, face_value, new_weight)\n",
      " |      This can change the weight of a specific face.\n",
      " |      \n",
      " |      Arguments:\n",
      " |          face_value: the face whose weight is being changed   (string or integer)\n",
      " |          new_weight: the new weight value for the given face  (integer or float)\n",
      " |      \n",
      " |      Errors to Raise:\n",
      " |          IndexError: if the face_value is not found in the dataframe\n",
      " |          TypeError: if the new_weight cannot be in numeric form\n",
      " |  \n",
      " |  ----------------------------------------------------------------------\n",
      " |  Data descriptors defined here:\n",
      " |  \n",
      " |  __dict__\n",
      " |      dictionary for instance variables (if defined)\n",
      " |  \n",
      " |  __weakref__\n",
      " |      list of weak references to the object (if defined)\n",
      "\n"
     ]
    }
   ],
   "source": [
    "help(monte_carlo_package.Die)"
   ]
  },
  {
   "cell_type": "code",
   "execution_count": 21,
   "id": "e4e50954-a847-4397-975e-eec9b881f27b",
   "metadata": {
    "tags": []
   },
   "outputs": [
    {
     "name": "stdout",
     "output_type": "stream",
     "text": [
      "Help on class Game in module monte_carlo_package.game:\n",
      "\n",
      "class Game(builtins.object)\n",
      " |  Game(dice)\n",
      " |  \n",
      " |  This class will simulate the rolling of one or more dice within a game. It can roll a specified number of times and outputs the results in a specified format.\n",
      " |  \n",
      " |  Methods defined here:\n",
      " |  \n",
      " |  __init__(self, dice)\n",
      " |      This initializes the game by taking a list of Die objects with the same number of faces, but potentially different weights.\n",
      " |      \n",
      " |      Arguments:\n",
      " |          dice: a list of similar Die objects\n",
      " |  \n",
      " |  play(self, num_rolls)\n",
      " |      This rolls all the dice the given number of times.\n",
      " |      \n",
      " |      Arguments:\n",
      " |          num_rolls: the number of rolls for the dice   (integer)\n",
      " |  \n",
      " |  show(self, form='wide')\n",
      " |      This returns the results of the most recent play of the game in the desired format.\n",
      " |      \n",
      " |      Arguments:\n",
      " |          shape: the format of the data (wide or narrow), the default for this is wide   (string)\n",
      " |          \n",
      " |      Errors to Raise:\n",
      " |          ValueError: if the reuqested `form` is not wide or narrow\n",
      " |  \n",
      " |  ----------------------------------------------------------------------\n",
      " |  Data descriptors defined here:\n",
      " |  \n",
      " |  __dict__\n",
      " |      dictionary for instance variables (if defined)\n",
      " |  \n",
      " |  __weakref__\n",
      " |      list of weak references to the object (if defined)\n",
      "\n"
     ]
    }
   ],
   "source": [
    "help(monte_carlo_package.Game)"
   ]
  },
  {
   "cell_type": "code",
   "execution_count": 22,
   "id": "d6b7dd98-a6e5-46c0-8f1c-3f4f54afbe05",
   "metadata": {
    "tags": []
   },
   "outputs": [
    {
     "name": "stdout",
     "output_type": "stream",
     "text": [
      "Help on class Analyzer in module monte_carlo_package.analyzer:\n",
      "\n",
      "class Analyzer(builtins.object)\n",
      " |  Analyzer(game)\n",
      " |  \n",
      " |  This class will take the results of a single game and analyze the some statistical properties of the results (jackpots, the number of times each face value was rolled, and distinct face combinations and permutations).\n",
      " |  \n",
      " |  Methods defined here:\n",
      " |  \n",
      " |  __init__(self, game)\n",
      " |      This initializes the analyzer by taking a game object.\n",
      " |      \n",
      " |      Arguments:\n",
      " |          game: a Game object\n",
      " |      \n",
      " |      Errors to Raise:\n",
      " |          ValueError: if the input is not a Game object\n",
      " |  \n",
      " |  combo_count(self)\n",
      " |      This computes the number of distinct face combinations over all rolls. Note: Combinations are order-independent.\n",
      " |      \n",
      " |      Returns:\n",
      " |          A dataframe with the combinations as a MultiIndex and their counts in a column\n",
      " |  \n",
      " |  jackpot(self)\n",
      " |      This computes how many times the game ended in a jackpot which is where all dice in a roll show the same face.\n",
      " |      \n",
      " |      Returns:\n",
      " |          The number of jackpots as an integer\n",
      " |  \n",
      " |  permutation_count(self)\n",
      " |      This computes the number of distinct face permutations over all rolls. Note: Permutations are order-dependent.\n",
      " |      \n",
      " |      Returns:\n",
      " |          A dataframe with the permutations as a MultiIndex and their counts in a column\n",
      " |  \n",
      " |  roll_face_counts(self)\n",
      " |      This computes the number of times a given face value is rolled for each event.\n",
      " |      \n",
      " |      Returns:\n",
      " |          A dataframe with the roll numbers in the index, face counts in the columns, and the count values in the cells\n",
      " |  \n",
      " |  ----------------------------------------------------------------------\n",
      " |  Data descriptors defined here:\n",
      " |  \n",
      " |  __dict__\n",
      " |      dictionary for instance variables (if defined)\n",
      " |  \n",
      " |  __weakref__\n",
      " |      list of weak references to the object (if defined)\n",
      "\n"
     ]
    }
   ],
   "source": [
    "help(monte_carlo_package.Analyzer)"
   ]
  },
  {
   "cell_type": "markdown",
   "id": "a9defa84-b395-4966-bd1c-5c6c2bb7ed68",
   "metadata": {},
   "source": [
    "## `README.md` File (3)\n",
    "\n",
    "Provide link to the README.md file of your project's repo.\n",
    "\n",
    "- Metadata section or info present (1).\n",
    "- Synopsis section showing how each class is called (1). (All must be included.)\n",
    "- API section listing all classes and methods (1). (All must be included.)"
   ]
  },
  {
   "cell_type": "markdown",
   "id": "ee090b33-d593-48a0-bf35-e739cea0942c",
   "metadata": {},
   "source": [
    "URL: https://github.com/sed4kq/ds5100-monte-carlo/blob/main/README.md"
   ]
  },
  {
   "cell_type": "markdown",
   "id": "108604c8-8827-42ef-ab59-6b25428fc0ca",
   "metadata": {},
   "source": [
    "## Successful installation (2)\n",
    "\n",
    "Put a screenshot or paste a copy of a terminal session where you successfully install your module with pip.\n",
    "\n",
    "If pasting text, use a preformatted text block to show the results.\n",
    "\n",
    "- Installed with `pip` (1).\n",
    "- Successfully installed message appears (1)."
   ]
  },
  {
   "cell_type": "markdown",
   "id": "ace82911-a7e2-4811-b5e7-65cad6d5700a",
   "metadata": {},
   "source": [
    "# Pasted code\n",
    "```\n",
    "-bash-4.4$pip install .\n",
    "Defaulting to user installation because normal site-packages is not writeable\n",
    "Processing /sfs/gpfs/tardis/home/sed4kq/Documents/MSDS/ds5100-monte-carlo\n",
    "  Preparing metadata (setup.py) ... done\n",
    "Using legacy 'setup.py install' for monte-carlo-package, since package 'wheel' is not installed.\n",
    "Installing collected packages: monte-carlo-package\n",
    "    Running setup.py install for monte-carlo-package ... done\n",
    "Successfully installed monte-carlo-package-1.0\n",
    "```"
   ]
  },
  {
   "cell_type": "markdown",
   "id": "7c44695d-d1b3-4edf-9f94-e64d7446f199",
   "metadata": {},
   "source": [
    "# Scenarios\n",
    "\n",
    "Use code blocks to perform the tasks for each scenario.\n",
    "\n",
    "Be sure the outputs are visible before submitting."
   ]
  },
  {
   "cell_type": "markdown",
   "id": "e2479eae-6fc9-44cd-b8d7-9b22cb501f2a",
   "metadata": {
    "tags": []
   },
   "source": [
    "## Scenario 1: A 2-headed Coin (9)\n",
    "\n",
    "Task 1. Create a fair coin (with faces $H$ and $T$) and one unfair coin in which one of the faces has a weight of $5$ and the others $1$.\n",
    "\n",
    "- Fair coin created (1).\n",
    "- Unfair coin created with weight as specified (1)."
   ]
  },
  {
   "cell_type": "code",
   "execution_count": 39,
   "id": "55ce498e-c75f-4425-9e3e-b635bd6cd9e1",
   "metadata": {},
   "outputs": [],
   "source": [
    "import numpy as np\n",
    "from monte_carlo_package.die import Die\n",
    "\n",
    "fair = Die(np.array(['H', 'T']))\n",
    "unfair = Die(np.array(['H', 'T']))\n",
    "unfair.weight('H', 5)"
   ]
  },
  {
   "cell_type": "markdown",
   "id": "02b272ab-99da-4b6e-ac2a-555b73e09c07",
   "metadata": {},
   "source": [
    "Task 2. Play a game of $1000$ flips with two fair dice.\n",
    "\n",
    "- Play method called correclty and without error (1)."
   ]
  },
  {
   "cell_type": "code",
   "execution_count": 40,
   "id": "65c92601-d32d-4326-b215-74953aee27f2",
   "metadata": {},
   "outputs": [],
   "source": [
    "from monte_carlo_package.game import Game\n",
    "\n",
    "game_t2 = Game([fair, fair])\n",
    "game_t2.play(1000)"
   ]
  },
  {
   "cell_type": "markdown",
   "id": "7d9c3dc8-22c1-4cae-81fb-d68d774a05d1",
   "metadata": {},
   "source": [
    "Task 3. Play another game (using a new Game object) of $1000$ flips, this time using two unfair dice and one fair die. For the second unfair die, you can use the same die object twice in the list of dice you pass to the Game object.\n",
    "\n",
    "- New game object created (1).\n",
    "- Play method called correclty and without error (1)."
   ]
  },
  {
   "cell_type": "code",
   "execution_count": 41,
   "id": "d4098bed-1eb2-4084-8d5e-9fda07c3be43",
   "metadata": {},
   "outputs": [],
   "source": [
    "game_t3 = Game([fair, unfair, unfair])\n",
    "game_t3.play(1000)"
   ]
  },
  {
   "cell_type": "markdown",
   "id": "f690ebfc-fe71-4eb2-976d-7ac80ca6c23f",
   "metadata": {},
   "source": [
    "Task 4. For each game, use an Analyzer object to determine the raw frequency of jackpots — i.e. getting either all $H$s or all $T$s.\n",
    "\n",
    "- Analyzer objecs instantiated for both games (1).\n",
    "- Raw frequencies reported for both (1)."
   ]
  },
  {
   "cell_type": "code",
   "execution_count": 42,
   "id": "b26b8b7e-3be7-4476-a9a4-37d97536729e",
   "metadata": {},
   "outputs": [
    {
     "name": "stdout",
     "output_type": "stream",
     "text": [
      "Game 2: 509\n",
      "Game 3: 351\n"
     ]
    }
   ],
   "source": [
    "from monte_carlo_package.analyzer import Analyzer\n",
    "\n",
    "analyzer_t2 = Analyzer(game_t2)\n",
    "analyzer_t3 = Analyzer(game_t3)\n",
    "\n",
    "jackpots_t2 = analyzer_t2.jackpot()\n",
    "jackpots_t3 = analyzer_t3.jackpot()\n",
    "\n",
    "print(f\"Game 2: {jackpots_t2}\")\n",
    "print(f\"Game 3: {jackpots_t3}\")"
   ]
  },
  {
   "cell_type": "markdown",
   "id": "b73d233c-445e-40cd-8858-0c5e1f097105",
   "metadata": {},
   "source": [
    "Task 5. For each analyzer, compute relative frequency as the number of jackpots over the total number of rolls.\n",
    "\n",
    "- Both relative frequencies computed (1)."
   ]
  },
  {
   "cell_type": "code",
   "execution_count": 43,
   "id": "9a96b31b-1b9d-496e-be3e-4bf83c45ec3a",
   "metadata": {},
   "outputs": [],
   "source": [
    "rel_freq_t2 = jackpots_t2 / 1000\n",
    "rel_freq_t3 = jackpots_t3 / 1000"
   ]
  },
  {
   "cell_type": "markdown",
   "id": "a6e1e734-7f5c-4721-8ba4-2f3a424cf984",
   "metadata": {},
   "source": [
    "Task 6. Show your results, comparing the two relative frequencies, in a simple bar chart.\n",
    "\n",
    "- Bar chart plotted and correct (1)."
   ]
  },
  {
   "cell_type": "code",
   "execution_count": 44,
   "id": "473fa67c-aa53-4aa3-a0b7-e8772b3f6ed3",
   "metadata": {},
   "outputs": [
    {
     "data": {
      "image/png": "[encoded data removed]",
      "text/plain": [
       "<Figure size 640x480 with 1 Axes>"
      ]
     },
     "metadata": {},
     "output_type": "display_data"
    }
   ],
   "source": [
    "import matplotlib.pyplot as plt\n",
    "\n",
    "games = ['Fair Game', 'Unfair Game']\n",
    "rel_freqs = [rel_freq_t2, rel_freq_t3]\n",
    "\n",
    "plt.bar(games, rel_freqs)\n",
    "plt.show()"
   ]
  },
  {
   "cell_type": "markdown",
   "id": "725cfa5b-e4b7-47c9-86aa-8d9e1fe6c8c7",
   "metadata": {},
   "source": [
    "## Scenario 2: A 6-sided Die (9)\n",
    "\n",
    "Task 1. Create three dice, each with six sides having the faces 1 through 6.\n",
    "\n",
    "- Three die objects created (1)."
   ]
  },
  {
   "cell_type": "code",
   "execution_count": 45,
   "id": "6a8bc611-325a-4e05-88d5-980e0a2cf7c5",
   "metadata": {},
   "outputs": [],
   "source": [
    "die_1 = Die(np.array([1, 2, 3, 4, 5, 6]))\n",
    "die_2 = Die(np.array([1, 2, 3, 4, 5, 6]))\n",
    "die_3 = Die(np.array([1, 2, 3, 4, 5, 6]))"
   ]
  },
  {
   "cell_type": "markdown",
   "id": "2ed3ad26-fbe9-43bd-9ad7-f683a4191d12",
   "metadata": {},
   "source": [
    "Task 2. Convert one of the dice to an unfair one by weighting the face $6$ five times more than the other weights (i.e. it has weight of 5 and the others a weight of 1 each).\n",
    "\n",
    "- Unfair die created with proper call to weight change method (1)."
   ]
  },
  {
   "cell_type": "code",
   "execution_count": 46,
   "id": "e33dd18f-7f90-456d-a680-61c08a328e21",
   "metadata": {},
   "outputs": [],
   "source": [
    "unfair_die_num2 = die_2\n",
    "unfair_die_num2.weight(6, 5)"
   ]
  },
  {
   "cell_type": "markdown",
   "id": "7f6c062a-4c5b-45b9-96b8-76a0354c7e47",
   "metadata": {},
   "source": [
    "Task 3. Convert another of the dice to be unfair by weighting the face $1$ five times more than the others.\n",
    "\n",
    "- Unfair die created with proper call to weight change method (1)."
   ]
  },
  {
   "cell_type": "code",
   "execution_count": 47,
   "id": "01133a4e-6b06-4246-8d90-8e6d6995be51",
   "metadata": {},
   "outputs": [],
   "source": [
    "unfair_die_num3 = die_3\n",
    "unfair_die_num3.weight(1, 5)"
   ]
  },
  {
   "cell_type": "markdown",
   "id": "f0ed31cb-0a3c-4eb2-b85e-6ed6b2eb6e58",
   "metadata": {},
   "source": [
    "Task 4. Play a game of $10000$ rolls with $5$ fair dice.\n",
    "\n",
    "- Game class properly instantiated (1). \n",
    "- Play method called properly (1)."
   ]
  },
  {
   "cell_type": "code",
   "execution_count": 48,
   "id": "e92395a4-9ed8-4cb0-8c85-38768a784ffc",
   "metadata": {},
   "outputs": [],
   "source": [
    "fair_game = Game([die_1, die_1, die_1, die_1, die_1])\n",
    "\n",
    "fair_game.play(10000)"
   ]
  },
  {
   "cell_type": "markdown",
   "id": "7814b402-46a4-40e5-8141-20e05c3e646b",
   "metadata": {},
   "source": [
    "Task 5. Play another game of $10000$ rolls, this time with $2$ unfair dice, one as defined in steps #2 and #3 respectively, and $3$ fair dice.\n",
    "\n",
    "- Game class properly instantiated (1). \n",
    "- Play method called properly (1)."
   ]
  },
  {
   "cell_type": "code",
   "execution_count": 49,
   "id": "7cd58fba-b2a5-4d5d-bc6d-2a7a68d18c4f",
   "metadata": {},
   "outputs": [],
   "source": [
    "unfair_game = Game([die_1, die_1, die_1, unfair_die_num2, unfair_die_num3])\n",
    "\n",
    "unfair_game.play(10000)"
   ]
  },
  {
   "cell_type": "markdown",
   "id": "7b6cd372-2bb8-4df8-ade1-8f48bc300955",
   "metadata": {},
   "source": [
    "Task 6. For each game, use an Analyzer object to determine the relative frequency of jackpots and show your results, comparing the two relative frequencies, in a simple bar chart.\n",
    "\n",
    "- Jackpot methods called (1).\n",
    "- Graph produced (1)."
   ]
  },
  {
   "cell_type": "code",
   "execution_count": 50,
   "id": "bbdcf695-8937-406e-9b53-aa0b9ee3c59a",
   "metadata": {},
   "outputs": [
    {
     "data": {
      "image/png": "[encoded data removed]",
      "text/plain": [
       "<Figure size 640x480 with 1 Axes>"
      ]
     },
     "metadata": {},
     "output_type": "display_data"
    }
   ],
   "source": [
    "f_analyzer = Analyzer(fair_game)\n",
    "f_jackpot_freq = f_analyzer.jackpot() / 10000\n",
    "\n",
    "u_analyzer = Analyzer(unfair_game)\n",
    "u_jackpot_freq = u_analyzer.jackpot() / 10000\n",
    "\n",
    "\n",
    "die_games = ['Fair Game', 'Unfair Game']\n",
    "frequencies = [f_jackpot_freq, u_jackpot_freq]\n",
    "\n",
    "plt.bar(die_games, frequencies)\n",
    "plt.show()"
   ]
  },
  {
   "cell_type": "markdown",
   "id": "9f04e9be-8fcf-4ea4-a391-6614608285f8",
   "metadata": {},
   "source": [
    "## Scenario 3: Letters of the Alphabet (7)\n",
    "\n",
    "Task 1. Create a \"die\" of letters from $A$ to $Z$ with weights based on their frequency of usage as found in the data file `english_letters.txt`. Use the frequencies (i.e. raw counts) as weights.\n",
    "\n",
    "- Die correctly instantiated with source file data (1).\n",
    "- Weights properly applied using weight setting method (1)."
   ]
  },
  {
   "cell_type": "code",
   "execution_count": 51,
   "id": "b0ceb771-3cdf-4d8f-8c2c-020806bbb909",
   "metadata": {},
   "outputs": [],
   "source": [
    "import pandas as pd\n",
    "\n",
    "english = pd.read_csv('english_letters.txt', sep=\" \", header = None, names=['letter', 'freq'])\n",
    "letters = np.array(english['letter'])\n",
    "wts = np.array(english['freq'])\n",
    "\n",
    "scenario3_die = Die(letters)\n",
    "\n",
    "for i in range(len(letters)):\n",
    "    scenario3_die.weight(letters[i], wts[i])"
   ]
  },
  {
   "cell_type": "markdown",
   "id": "88e2e14a-6223-470a-a2c8-bca1120d7a5b",
   "metadata": {},
   "source": [
    "Task 2. Play a game involving $4$ of these dice with $1000$ rolls.\n",
    "\n",
    "- Game play method properly called (1)."
   ]
  },
  {
   "cell_type": "code",
   "execution_count": 52,
   "id": "2ae087cc-936d-4f1e-bddb-a7c179d139e0",
   "metadata": {},
   "outputs": [],
   "source": [
    "game_4dice = Game([scenario3_die, scenario3_die, scenario3_die, scenario3_die])\n",
    "game_4dice.play(1000)"
   ]
  },
  {
   "cell_type": "markdown",
   "id": "3b9ff800-bf1f-4f66-9d7f-ff57a648e9f0",
   "metadata": {},
   "source": [
    "Task 3. Determine how many permutations in your results are actual English words, based on the vocabulary found in `scrabble_words.txt`.\n",
    "\n",
    "- Use permutation method (1).\n",
    "- Get count as difference between permutations and vocabulary (1)."
   ]
  },
  {
   "cell_type": "code",
   "execution_count": 53,
   "id": "ed1c7fa0-cfa3-4cf4-9fd0-9f84b86b0f64",
   "metadata": {},
   "outputs": [
    {
     "data": {
      "text/plain": [
       "64"
      ]
     },
     "execution_count": 53,
     "metadata": {},
     "output_type": "execute_result"
    }
   ],
   "source": [
    "scrabble = pd.read_csv('scrabble_words.txt', header=None, names=['words'])\n",
    "scrabble_words = set(scrabble['words'])\n",
    "\n",
    "\n",
    "analyzer_4dice = Analyzer(game_4dice)\n",
    "perms_4dice = analyzer_4dice.permutation_count()\n",
    "\n",
    "perm4_words = set(perms_4dice.index.map(''.join))\n",
    "notwords_4dice = len(perm4_words - scrabble_words)\n",
    "\n",
    "len(perm4_words) - notwords_4dice"
   ]
  },
  {
   "cell_type": "markdown",
   "id": "fcf068cf-381a-4b3e-ac3a-0510eb4dbdb0",
   "metadata": {},
   "source": [
    "Task 4. Repeat steps #2 and #3, this time with $5$ dice. How many actual words does this produce? Which produces more?\n",
    "\n",
    "- Successfully repreats steps (1).\n",
    "- Identifies parameter with most found words (1)."
   ]
  },
  {
   "cell_type": "code",
   "execution_count": 54,
   "id": "f9a5fbf8-6ef6-4ed3-b6a0-8f76e031286f",
   "metadata": {
    "tags": []
   },
   "outputs": [
    {
     "data": {
      "text/plain": [
       "7"
      ]
     },
     "execution_count": 54,
     "metadata": {},
     "output_type": "execute_result"
    }
   ],
   "source": [
    "game_5dice = Game([scenario3_die, scenario3_die, scenario3_die, scenario3_die, scenario3_die])\n",
    "game_5dice.play(1000)\n",
    "\n",
    "\n",
    "analyzer_5dice = Analyzer(game_5dice)\n",
    "perms_5dice = analyzer_5dice.permutation_count()\n",
    "\n",
    "perm5_words = set(perms_5dice.index.map(''.join))\n",
    "notwords_5dice = len(perm5_words - scrabble_words)\n",
    "\n",
    "len(perm5_words) - notwords_5dice"
   ]
  },
  {
   "cell_type": "markdown",
   "id": "0e03f485-65d7-4b2b-8e7c-c381f743f514",
   "metadata": {},
   "source": [
    "The game with only 4 dice produced more words out of its permutations than the game with 5 dice."
   ]
  }
 ],
 "metadata": {
  "kernelspec": {
   "display_name": "Python 3 (ipykernel)",
   "language": "python",
   "name": "python3"
  },
  "language_info": {
   "codemirror_mode": {
    "name": "ipython",
    "version": 3
   },
   "file_extension": ".py",
   "mimetype": "text/x-python",
   "name": "python",
   "nbconvert_exporter": "python",
   "pygments_lexer": "ipython3",
   "version": "3.11.4"
  },
  "toc-autonumbering": true,
  "widgets": {
   "application/vnd.jupyter.widget-state+json": {
    "state": {},
    "version_major": 2,
    "version_minor": 0
   }
  }
 },
 "nbformat": 4,
 "nbformat_minor": 5
}
